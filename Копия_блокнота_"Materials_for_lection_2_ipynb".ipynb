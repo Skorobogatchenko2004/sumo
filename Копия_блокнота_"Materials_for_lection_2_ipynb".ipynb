{
  "nbformat": 4,
  "nbformat_minor": 0,
  "metadata": {
    "colab": {
      "provenance": [],
      "include_colab_link": true
    },
    "kernelspec": {
      "name": "python3",
      "display_name": "Python 3"
    },
    "language_info": {
      "name": "python"
    }
  },
  "cells": [
    {
      "cell_type": "markdown",
      "metadata": {
        "id": "view-in-github",
        "colab_type": "text"
      },
      "source": [
        "<a href=\"https://colab.research.google.com/github/Skorobogatchenko2004/sumo/blob/main/%D0%9A%D0%BE%D0%BF%D0%B8%D1%8F_%D0%B1%D0%BB%D0%BE%D0%BA%D0%BD%D0%BE%D1%82%D0%B0_%22Materials_for_lection_2_ipynb%22.ipynb\" target=\"_parent\"><img src=\"https://colab.research.google.com/assets/colab-badge.svg\" alt=\"Open In Colab\"/></a>"
      ]
    },
    {
      "cell_type": "code",
      "execution_count": null,
      "metadata": {
        "id": "GVaS7Qr9_pB0",
        "outputId": "849e2de3-74d0-4286-8546-7c45da4f1953",
        "colab": {
          "base_uri": "https://localhost:8080/"
        }
      },
      "outputs": [
        {
          "output_type": "stream",
          "name": "stdout",
          "text": [
            "Requirement already satisfied: pyro-ppl in /usr/local/lib/python3.10/dist-packages (1.9.0)\n",
            "Requirement already satisfied: numpy>=1.7 in /usr/local/lib/python3.10/dist-packages (from pyro-ppl) (1.25.2)\n",
            "Requirement already satisfied: opt-einsum>=2.3.2 in /usr/local/lib/python3.10/dist-packages (from pyro-ppl) (3.3.0)\n",
            "Requirement already satisfied: pyro-api>=0.1.1 in /usr/local/lib/python3.10/dist-packages (from pyro-ppl) (0.1.2)\n",
            "Requirement already satisfied: torch>=2.0 in /usr/local/lib/python3.10/dist-packages (from pyro-ppl) (2.1.0+cu121)\n",
            "Requirement already satisfied: tqdm>=4.36 in /usr/local/lib/python3.10/dist-packages (from pyro-ppl) (4.66.2)\n",
            "Requirement already satisfied: filelock in /usr/local/lib/python3.10/dist-packages (from torch>=2.0->pyro-ppl) (3.13.1)\n",
            "Requirement already satisfied: typing-extensions in /usr/local/lib/python3.10/dist-packages (from torch>=2.0->pyro-ppl) (4.9.0)\n",
            "Requirement already satisfied: sympy in /usr/local/lib/python3.10/dist-packages (from torch>=2.0->pyro-ppl) (1.12)\n",
            "Requirement already satisfied: networkx in /usr/local/lib/python3.10/dist-packages (from torch>=2.0->pyro-ppl) (3.2.1)\n",
            "Requirement already satisfied: jinja2 in /usr/local/lib/python3.10/dist-packages (from torch>=2.0->pyro-ppl) (3.1.3)\n",
            "Requirement already satisfied: fsspec in /usr/local/lib/python3.10/dist-packages (from torch>=2.0->pyro-ppl) (2023.6.0)\n",
            "Requirement already satisfied: triton==2.1.0 in /usr/local/lib/python3.10/dist-packages (from torch>=2.0->pyro-ppl) (2.1.0)\n",
            "Requirement already satisfied: MarkupSafe>=2.0 in /usr/local/lib/python3.10/dist-packages (from jinja2->torch>=2.0->pyro-ppl) (2.1.5)\n",
            "Requirement already satisfied: mpmath>=0.19 in /usr/local/lib/python3.10/dist-packages (from sympy->torch>=2.0->pyro-ppl) (1.3.0)\n"
          ]
        }
      ],
      "source": [
        "!pip install pyro-ppl"
      ]
    },
    {
      "cell_type": "code",
      "source": [
        "import numpy as np\n",
        "import matplotlib.pyplot as plt\n",
        "import torch\n",
        "import pyro\n",
        "from pyro import distributions as dist\n",
        "from pyro import poutine\n",
        "\n",
        "%matplotlib inline"
      ],
      "metadata": {
        "id": "-OuHppuqAHCe"
      },
      "execution_count": null,
      "outputs": []
    },
    {
      "cell_type": "markdown",
      "source": [
        "Пример семплирования из распределения:"
      ],
      "metadata": {
        "id": "kQR2URfFfJ5U"
      }
    },
    {
      "cell_type": "code",
      "source": [
        "a = pyro.sample(\"a\", dist.Uniform(0, 10))\n",
        "a"
      ],
      "metadata": {
        "id": "DJiHkm-VeObp",
        "outputId": "e9fd4381-0370-4850-86a2-48545455ef7d",
        "colab": {
          "base_uri": "https://localhost:8080/"
        }
      },
      "execution_count": null,
      "outputs": [
        {
          "output_type": "execute_result",
          "data": {
            "text/plain": [
              "tensor(0.5028)"
            ]
          },
          "metadata": {},
          "execution_count": 43
        }
      ]
    },
    {
      "cell_type": "markdown",
      "source": [
        "Расчет вероятности, с которой сгенерируется данный семпл из рассматриваемого распределения:"
      ],
      "metadata": {
        "id": "UgoZuCG2fQEE"
      }
    },
    {
      "cell_type": "code",
      "source": [
        "x = torch.tensor(-20)\n",
        "\n",
        "print(\"log probability: \", np.exp(dist.Normal(0, 1).log_prob(x)))"
      ],
      "metadata": {
        "id": "G2ArniAFeb5r",
        "outputId": "bbdc46c7-f85b-4831-a85d-13a91524a3cb",
        "colab": {
          "base_uri": "https://localhost:8080/"
        }
      },
      "execution_count": null,
      "outputs": [
        {
          "output_type": "stream",
          "name": "stdout",
          "text": [
            "log probability:  tensor(0.)\n"
          ]
        }
      ]
    },
    {
      "cell_type": "markdown",
      "source": [
        "Рассмотрим задачу оценки количества выпадения орлов при 1000 бросках монеты.\n",
        "\n",
        "$h = \\mathcal{N}(0, 1)$\n",
        "\n",
        "$y = \\mathcal{Bin}(1000, \\sigma(h))$"
      ],
      "metadata": {
        "id": "P4cf86iRZxG6"
      }
    },
    {
      "cell_type": "code",
      "source": [
        "def model():\n",
        "    head_logits = pyro.sample(\"head_logits\",\n",
        "                              dist.Normal(0.0 * torch.ones(20000), 1.0))\n",
        "                              #dist.Uniform(-1.0 * torch.ones(20000), 1.0))\n",
        "    coins_outcomes = pyro.sample(\"coins_outcomes\",\n",
        "                                 dist.Binomial(1000, logits=head_logits))\n",
        "    return coins_outcomes"
      ],
      "metadata": {
        "id": "9sLirev_oE2G"
      },
      "execution_count": null,
      "outputs": []
    },
    {
      "cell_type": "code",
      "source": [
        "model()"
      ],
      "metadata": {
        "colab": {
          "base_uri": "https://localhost:8080/"
        },
        "id": "yEZj9p6A5vTp",
        "outputId": "fcec8ac9-7ec2-4be6-b1af-8d191c046ebc"
      },
      "execution_count": null,
      "outputs": [
        {
          "output_type": "execute_result",
          "data": {
            "text/plain": [
              "tensor([386., 438., 503.,  ..., 307., 677., 735.])"
            ]
          },
          "metadata": {},
          "execution_count": 46
        }
      ]
    },
    {
      "cell_type": "markdown",
      "source": [
        "Визуализируем графическую модель:"
      ],
      "metadata": {
        "id": "CqiIERhwhQrH"
      }
    },
    {
      "cell_type": "code",
      "source": [
        "pyro.render_model(model, model_args=(None),\n",
        "                  render_distributions=True, render_params=True)"
      ],
      "metadata": {
        "id": "KnSvhj1PoE43",
        "outputId": "272d08d1-c38e-4448-9fc5-e4e4236f0adf",
        "colab": {
          "base_uri": "https://localhost:8080/",
          "height": 178
        }
      },
      "execution_count": null,
      "outputs": [
        {
          "output_type": "execute_result",
          "data": {
            "image/svg+xml": "<?xml version=\"1.0\" encoding=\"UTF-8\" standalone=\"no\"?>\n<!DOCTYPE svg PUBLIC \"-//W3C//DTD SVG 1.1//EN\"\n \"http://www.w3.org/Graphics/SVG/1.1/DTD/svg11.dtd\">\n<!-- Generated by graphviz version 2.43.0 (0)\n -->\n<!-- Title: %3 Pages: 1 -->\n<svg width=\"315pt\" height=\"118pt\"\n viewBox=\"0.00 0.00 314.59 118.00\" xmlns=\"http://www.w3.org/2000/svg\" xmlns:xlink=\"http://www.w3.org/1999/xlink\">\n<g id=\"graph0\" class=\"graph\" transform=\"scale(1 1) rotate(0) translate(4 114)\">\n<title>%3</title>\n<polygon fill=\"white\" stroke=\"transparent\" points=\"-4,4 -4,-114 310.59,-114 310.59,4 -4,4\"/>\n<!-- head_logits -->\n<g id=\"node1\" class=\"node\">\n<title>head_logits</title>\n<ellipse fill=\"white\" stroke=\"black\" cx=\"67.59\" cy=\"-91\" rx=\"51.19\" ry=\"18\"/>\n<text text-anchor=\"middle\" x=\"67.59\" y=\"-87.3\" font-family=\"Times,serif\" font-size=\"14.00\">head_logits</text>\n</g>\n<!-- coins_outcomes -->\n<g id=\"node2\" class=\"node\">\n<title>coins_outcomes</title>\n<ellipse fill=\"white\" stroke=\"black\" cx=\"67.59\" cy=\"-18\" rx=\"67.69\" ry=\"18\"/>\n<text text-anchor=\"middle\" x=\"67.59\" y=\"-14.3\" font-family=\"Times,serif\" font-size=\"14.00\">coins_outcomes</text>\n</g>\n<!-- head_logits&#45;&gt;coins_outcomes -->\n<g id=\"edge1\" class=\"edge\">\n<title>head_logits&#45;&gt;coins_outcomes</title>\n<path fill=\"none\" stroke=\"black\" d=\"M67.59,-72.81C67.59,-64.79 67.59,-55.05 67.59,-46.07\"/>\n<polygon fill=\"black\" stroke=\"black\" points=\"71.09,-46.03 67.59,-36.03 64.09,-46.03 71.09,-46.03\"/>\n</g>\n<!-- distribution_description_node -->\n<g id=\"node3\" class=\"node\">\n<title>distribution_description_node</title>\n<text text-anchor=\"start\" x=\"144.59\" y=\"-94.8\" font-family=\"Times,serif\" font-size=\"14.00\">head_logits ~ Normal</text>\n<text text-anchor=\"start\" x=\"144.59\" y=\"-79.8\" font-family=\"Times,serif\" font-size=\"14.00\">coins_outcomes ~ Binomial</text>\n</g>\n</g>\n</svg>\n",
            "text/plain": [
              "<graphviz.graphs.Digraph at 0x7c21761e16f0>"
            ]
          },
          "metadata": {},
          "execution_count": 47
        }
      ]
    },
    {
      "cell_type": "markdown",
      "source": [
        "Выполним семплирование и сохраним результаты как \"трассу\":"
      ],
      "metadata": {
        "id": "R1eDZkB9hVmC"
      }
    },
    {
      "cell_type": "code",
      "source": [
        "trace = poutine.trace(model).get_trace()"
      ],
      "metadata": {
        "id": "ELRe_PLVz0dF"
      },
      "execution_count": null,
      "outputs": []
    },
    {
      "cell_type": "code",
      "source": [
        "trace"
      ],
      "metadata": {
        "colab": {
          "base_uri": "https://localhost:8080/"
        },
        "id": "QekPw6c76FkZ",
        "outputId": "e2708da3-84c9-4bce-8319-1a0dc3a308b2"
      },
      "execution_count": null,
      "outputs": [
        {
          "output_type": "execute_result",
          "data": {
            "text/plain": [
              "<pyro.poutine.trace_struct.Trace at 0x7c21755bace0>"
            ]
          },
          "metadata": {},
          "execution_count": 49
        }
      ]
    },
    {
      "cell_type": "markdown",
      "source": [
        "И посмотрим на неё:"
      ],
      "metadata": {
        "id": "J98clABMhdaD"
      }
    },
    {
      "cell_type": "code",
      "source": [
        "for name, site in trace.nodes.items():\n",
        "    print(name)\n",
        "    print(site)"
      ],
      "metadata": {
        "id": "DxRqcMRF0BGN",
        "outputId": "b19ec58e-b22a-47d7-e4ad-da3c6199bac8",
        "colab": {
          "base_uri": "https://localhost:8080/"
        }
      },
      "execution_count": null,
      "outputs": [
        {
          "output_type": "stream",
          "name": "stdout",
          "text": [
            "_INPUT\n",
            "{'name': '_INPUT', 'type': 'args', 'args': (), 'kwargs': {}}\n",
            "head_logits\n",
            "{'type': 'sample', 'name': 'head_logits', 'fn': Normal(loc: torch.Size([20000]), scale: torch.Size([20000])), 'is_observed': False, 'args': (), 'kwargs': {}, 'value': tensor([ 0.0675,  0.5048, -0.0579,  ..., -0.2280, -1.7509, -0.7024]), 'infer': {}, 'scale': 1.0, 'mask': None, 'cond_indep_stack': (), 'done': True, 'stop': False, 'continuation': None}\n",
            "coins_outcomes\n",
            "{'type': 'sample', 'name': 'coins_outcomes', 'fn': Binomial(total_count: torch.Size([20000]), probs: torch.Size([20000]), logits: torch.Size([20000])), 'is_observed': False, 'args': (), 'kwargs': {}, 'value': tensor([519., 646., 492.,  ..., 420., 126., 359.]), 'infer': {}, 'scale': 1.0, 'mask': None, 'cond_indep_stack': (), 'done': True, 'stop': False, 'continuation': None}\n",
            "_RETURN\n",
            "{'name': '_RETURN', 'type': 'return', 'value': tensor([519., 646., 492.,  ..., 420., 126., 359.])}\n"
          ]
        }
      ]
    },
    {
      "cell_type": "markdown",
      "source": [
        "Нормирование logit'ов в вероятности:"
      ],
      "metadata": {
        "id": "GHhfCToChgTA"
      }
    },
    {
      "cell_type": "code",
      "source": [
        "def sigma(x):\n",
        "    return (1.0 / (1.0 + np.exp(-x)))"
      ],
      "metadata": {
        "id": "gXnELuLUbVqK"
      },
      "execution_count": null,
      "outputs": []
    },
    {
      "cell_type": "markdown",
      "source": [
        "Визуализация основных распределений:"
      ],
      "metadata": {
        "id": "tSYCgamXhk5Q"
      }
    },
    {
      "cell_type": "code",
      "source": [
        "fig, (ax0, ax1, ax2) = plt.subplots(nrows=1, ncols=3, figsize=(24, 6))\n",
        "\n",
        "ax0.hist(dict(trace.nodes.items())[\"head_logits\"][\"value\"].numpy(),\n",
        "         200, density=True, histtype='bar', color=\"blue\")\n",
        "ax0.set_title('logits of head_logits')\n",
        "ax0.grid()\n",
        "\n",
        "ax1.hist(\n",
        "    sigma(\n",
        "        dict(trace.nodes.items())[\"head_logits\"][\"value\"].numpy()\n",
        "    ),\n",
        "    200, density=True, histtype='bar', color=\"green\")\n",
        "ax1.set_title('probabilities of head_logits')\n",
        "ax1.grid()\n",
        "\n",
        "ax2.hist(dict(trace.nodes.items())[\"coins_outcomes\"][\"value\"].numpy(),\n",
        "         200, density=True, histtype='bar', color=\"red\")\n",
        "ax2.set_title('heads distribution')\n",
        "ax2.grid()\n",
        "\n",
        "fig.tight_layout()\n",
        "plt.show()"
      ],
      "metadata": {
        "id": "u4Eam-_RbVxG",
        "outputId": "5674d649-9391-477a-ad9e-0c03256af529",
        "colab": {
          "base_uri": "https://localhost:8080/",
          "height": 401
        }
      },
      "execution_count": null,
      "outputs": [
        {
          "output_type": "display_data",
          "data": {
            "text/plain": [
              "<Figure size 2400x600 with 3 Axes>"
            ],
            "image/png": "[encoded data removed]"
          },
          "metadata": {}
        }
      ]
    }
  ]
}