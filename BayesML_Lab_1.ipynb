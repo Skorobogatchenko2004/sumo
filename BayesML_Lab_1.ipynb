{
  "nbformat": 4,
  "nbformat_minor": 0,
  "metadata": {
    "colab": {
      "provenance": [],
      "include_colab_link": true
    },
    "kernelspec": {
      "name": "python3",
      "display_name": "Python 3"
    },
    "language_info": {
      "name": "python"
    }
  },
  "cells": [
    {
      "cell_type": "markdown",
      "metadata": {
        "id": "view-in-github",
        "colab_type": "text"
      },
      "source": [
        "<a href=\"https://colab.research.google.com/github/Skorobogatchenko2004/sumo/blob/main/BayesML_Lab_1.ipynb\" target=\"_parent\"><img src=\"https://colab.research.google.com/assets/colab-badge.svg\" alt=\"Open In Colab\"/></a>"
      ]
    },
    {
      "cell_type": "markdown",
      "source": [
        "## Лабораторная работа № 1\n",
        "### Изучение принципов работы байесовских сетей c использованием фреймворка Pyro и библиотеки ArviZ\n",
        "\n",
        "#### Задачи работы:\n",
        "1. Познакомиться с байесовским моделированием и организацией байесовских сетей.\n",
        "2. Изучить принципы создания байесовских моделей для решения стандартных задач машинного обучения.\n",
        "3. Познакомиться с байесовским подходом к заполнению пропусков в данных.\n",
        "4. Получить навыки создания и обучения моделей, а также получения результатов предсказания на их основе, с использованием фреймворка Pyro.\n",
        "5. Получить навыки интерпретации байесовских моделей с использованием библиотеки ArviZ."
      ],
      "metadata": {
        "id": "-zogdsb_ycuX"
      }
    },
    {
      "cell_type": "markdown",
      "source": [
        "Устанавливаем фреймворк вероятностного программирования [Pyro](https://pyro.ai/):"
      ],
      "metadata": {
        "id": "nngijmyx0Cy6"
      }
    },
    {
      "cell_type": "code",
      "execution_count": null,
      "metadata": {
        "id": "VBQ_gYTpQL4V"
      },
      "outputs": [],
      "source": [
        "!pip install pyro-ppl"
      ]
    },
    {
      "cell_type": "markdown",
      "source": [
        "Подключаем библиотеки анализа и визуализации данных, необходимые в процессе работы."
      ],
      "metadata": {
        "id": "mRTzVSQf0g7s"
      }
    },
    {
      "cell_type": "code",
      "source": [
        "import numpy as np\n",
        "import pandas as pd\n",
        "import matplotlib.pyplot as plt\n",
        "import seaborn as sns\n",
        "import arviz as az\n",
        "import torch\n",
        "import pyro\n",
        "from pyro import distributions as dist\n",
        "from pyro.infer import MCMC, NUTS, Predictive\n",
        "from sklearn.compose import ColumnTransformer\n",
        "from sklearn.preprocessing import OrdinalEncoder, StandardScaler\n",
        "\n",
        "%matplotlib inline"
      ],
      "metadata": {
        "id": "TlPMP0efQn0Y"
      },
      "execution_count": null,
      "outputs": []
    },
    {
      "cell_type": "markdown",
      "source": [
        "Уточняем версию фреймворка Pyro."
      ],
      "metadata": {
        "id": "A5JinnHZ1Nle"
      }
    },
    {
      "cell_type": "code",
      "source": [
        "pyro.__version__"
      ],
      "metadata": {
        "id": "HahWs79fRHad"
      },
      "execution_count": null,
      "outputs": []
    },
    {
      "cell_type": "markdown",
      "source": [
        "В работе анализируется датасет [Credit Risk Dataset](https://www.kaggle.com/datasets/laotse/credit-risk-dataset), который содержит информацию о клиентах, получивших кредит.\n",
        "\n",
        "Данный датасет был разделен на две части (train и predict), предназначенные для обучения байесовской модели и получения по ней предсказаний соответственно.\n",
        "\n",
        "Скачиваем [тренировочный](https://drive.google.com/file/d/1HnBdQodlt3MyAd6NVw0qOKxQYVbc7X8s/view?usp=sharing) и [тестовый](https://drive.google.com/file/d/1n9XjptSj8j4BL1gFwxXBFN69MtjsSPQE/view?usp=sharing) датасеты в локальную папку.\n",
        "\n",
        "Загрузим датасет для обучения модели и посмотрим на него."
      ],
      "metadata": {
        "id": "GAKWs4B1KHBh"
      }
    },
    {
      "cell_type": "code",
      "source": [
        "!gdown 1HnBdQodlt3MyAd6NVw0qOKxQYVbc7X8s\n",
        "!gdown 1n9XjptSj8j4BL1gFwxXBFN69MtjsSPQE"
      ],
      "metadata": {
        "id": "OPduBt7yJlhR"
      },
      "execution_count": null,
      "outputs": []
    },
    {
      "cell_type": "markdown",
      "source": [
        "Описание столбцов датасета представлено ниже."
      ],
      "metadata": {
        "id": "BhJVkfjvUY0i"
      }
    },
    {
      "cell_type": "code",
      "source": [
        "df_train_name = \"/content/credit_risk_dataset_train.csv\"\n",
        "df_train = pd.read_csv(df_train_name)\n",
        "df_train"
      ],
      "metadata": {
        "id": "FGlGNWyDRkke"
      },
      "execution_count": null,
      "outputs": []
    },
    {
      "cell_type": "markdown",
      "source": [
        "|         **Признак**        |                    **Значение**                   |\n",
        "|:--------------------------:|:-------------------------------------------------:|\n",
        "| person_age                 | Возраст                                           |\n",
        "| person_income              | Годовой доход                                     |\n",
        "| person_home_ownership      | Владение жильем                                   |\n",
        "| person_emp_length          | Продолжительность трудовой деятельности (в годах) |\n",
        "| loan_intent                | Намерения по кредиту                              |\n",
        "| loan_grade                 | Оценка кредита                                    |\n",
        "| loan_amnt                  | Сумма кредита                                     |\n",
        "| loan_int_rate              | Процентная ставка                                 |\n",
        "| loan_status                | Статус кредита (0 - не дефолт 1 - дефолт)         |\n",
        "| loan_percent_income        | Процентный доход                                  |\n",
        "| cb_person_default_on_file  | Исторический дефолт                               |\n",
        "| cb_preson_cred_hist_length | Длина кредитной истории                           |"
      ],
      "metadata": {
        "id": "FvPRplYDSIyP"
      }
    },
    {
      "cell_type": "markdown",
      "source": [
        "В датасете наблюдаются признаки:\n",
        "\n",
        "* **количественные**: возраст, годовой доход, продолжительность трудовой деятельности, сумма кредита, процентная ставка, процентный доход, длина кредитной истории.\n",
        "* **категориальные**: владение жильём, намерения по кредиту, оценка кредита, статус кредита, исторический дефолт.\n",
        "\n",
        "Взглянем на формат столбцов датасета."
      ],
      "metadata": {
        "id": "kAU2L0ff2iFY"
      }
    },
    {
      "cell_type": "code",
      "source": [
        "df_train.info()"
      ],
      "metadata": {
        "id": "x5IbZXjk3tXL"
      },
      "execution_count": null,
      "outputs": []
    },
    {
      "cell_type": "markdown",
      "source": [
        "с целью упрощения анализа, оставим в датасете только некоторые столбцы."
      ],
      "metadata": {
        "id": "Z8Mw6BQz2oJZ"
      }
    },
    {
      "cell_type": "code",
      "source": [
        "df_train = df_train[\n",
        "    [\"person_age\", \"person_income\", \"person_home_ownership\", \"loan_intent\",\n",
        "     \"loan_amnt\", \"loan_int_rate\", \"cb_person_default_on_file\",\n",
        "     \"loan_status\"]\n",
        "]"
      ],
      "metadata": {
        "id": "a6yn0MtGm-uh"
      },
      "execution_count": null,
      "outputs": []
    },
    {
      "cell_type": "markdown",
      "source": [
        "Посмотрим, содержат ли столбцы пропущенные значения."
      ],
      "metadata": {
        "id": "Q5hUrbHo22_E"
      }
    },
    {
      "cell_type": "code",
      "source": [
        "df_train.isnull().sum()"
      ],
      "metadata": {
        "id": "O5XJZZTUTwoB"
      },
      "execution_count": null,
      "outputs": []
    },
    {
      "cell_type": "markdown",
      "source": [
        "Видно, процентная ставка указана не для всех клиентов. Пропущенные значения будем заполнять в дальнейшем с применением байесовской модели.\n",
        "\n",
        "Посмотрим на статистику данных."
      ],
      "metadata": {
        "id": "HEgMCDPv286W"
      }
    },
    {
      "cell_type": "code",
      "source": [
        "df_train.describe()"
      ],
      "metadata": {
        "id": "MfNkDkpQXi-Z"
      },
      "execution_count": null,
      "outputs": []
    },
    {
      "cell_type": "markdown",
      "source": [
        "Максимальный возраст клиента в 144 года вызывает сомнения...\n",
        "\n",
        "Выведем несколько клиентов, отсортированных по возрасту в порядке убывания."
      ],
      "metadata": {
        "id": "wahSSvJI3UN_"
      }
    },
    {
      "cell_type": "code",
      "source": [
        "df_train.sort_values(by=\"person_age\", ascending=False).head(10)"
      ],
      "metadata": {
        "id": "25Ri8o-3Yo-R"
      },
      "execution_count": null,
      "outputs": []
    },
    {
      "cell_type": "markdown",
      "source": [
        "Видно, что клиентов с подозрительным значением возраста не так много. Удалим их из датасета."
      ],
      "metadata": {
        "id": "kQdjCza-3mGB"
      }
    },
    {
      "cell_type": "code",
      "source": [
        "df_train = df_train[df_train[\"person_age\"] < 100]\n",
        "df_train.describe()"
      ],
      "metadata": {
        "id": "cjhILFhL2Wbc"
      },
      "execution_count": null,
      "outputs": []
    },
    {
      "cell_type": "markdown",
      "source": [
        "Посмотрим на количество значений категориальных признаков."
      ],
      "metadata": {
        "id": "2xdptRos3voC"
      }
    },
    {
      "cell_type": "code",
      "source": [
        "for col in [\"person_home_ownership\",\n",
        "            \"loan_intent\",\n",
        "            \"cb_person_default_on_file\",\n",
        "            \"loan_status\"]:\n",
        "    print(df_train[col].value_counts(), end=\"\\n\\n\")"
      ],
      "metadata": {
        "id": "cWDcN9WcVw-S"
      },
      "execution_count": null,
      "outputs": []
    },
    {
      "cell_type": "markdown",
      "source": [
        "Количество различных значений категориальных столбцов невелико, специальным образом обрабатывать их не нужно.\n",
        "\n",
        "Построим гистограммы категориальных признаков."
      ],
      "metadata": {
        "id": "uhHL5eHV48ms"
      }
    },
    {
      "cell_type": "code",
      "source": [
        "df_train[\"person_age\"].hist(bins=100)"
      ],
      "metadata": {
        "id": "GsgJ_1B4Ws2S"
      },
      "execution_count": null,
      "outputs": []
    },
    {
      "cell_type": "code",
      "source": [
        "df_train[\"person_income\"].hist(bins=100)"
      ],
      "metadata": {
        "id": "t5-stcHegCsL"
      },
      "execution_count": null,
      "outputs": []
    },
    {
      "cell_type": "code",
      "source": [
        "df_train[df_train[\"person_income\"] < 500000][\"person_income\"].hist(bins=100)"
      ],
      "metadata": {
        "id": "fgRUfVgIgKrn"
      },
      "execution_count": null,
      "outputs": []
    },
    {
      "cell_type": "code",
      "source": [
        "df_train[\"loan_amnt\"].hist(bins=100)"
      ],
      "metadata": {
        "id": "KnLqT6NegiEV"
      },
      "execution_count": null,
      "outputs": []
    },
    {
      "cell_type": "code",
      "source": [
        "df_train[\"loan_int_rate\"].hist(bins=100)"
      ],
      "metadata": {
        "id": "LO-HDnPJg8Pt"
      },
      "execution_count": null,
      "outputs": []
    },
    {
      "cell_type": "markdown",
      "source": [
        "Приведем типы столбцов датасета к корректным."
      ],
      "metadata": {
        "id": "qgrXd6Z75Rnu"
      }
    },
    {
      "cell_type": "code",
      "source": [
        "person_home_ownership_cat = pd.CategoricalDtype(\n",
        "    categories=[\"RENT\", \"MORTGAGE\", \"OWN\", \"OTHER\"],\n",
        "    ordered=True\n",
        ")\n",
        "\n",
        "loan_intent_cat = pd.CategoricalDtype(\n",
        "    categories=[\"EDUCATION\", \"MEDICAL\", \"VENTURE\", \"PERSONAL\",\n",
        "                \"DEBTCONSOLIDATION\", \"HOMEIMPROVEMENT\"],\n",
        "    ordered=True\n",
        ")\n",
        "\n",
        "cb_person_default_on_file_cat = pd.CategoricalDtype(\n",
        "    categories=[\"N\", \"Y\"],\n",
        "    ordered=True\n",
        ")"
      ],
      "metadata": {
        "id": "J76iDXMXLMGf"
      },
      "execution_count": null,
      "outputs": []
    },
    {
      "cell_type": "code",
      "source": [
        "df_train = df_train.astype(\n",
        "    {\n",
        "        \"person_age\": np.float64,\n",
        "        \"person_income\": np.float64,\n",
        "        \"person_home_ownership\": person_home_ownership_cat,\n",
        "        \"loan_intent\": loan_intent_cat,\n",
        "        \"loan_amnt\": np.float64,\n",
        "        \"loan_int_rate\": np.float64,\n",
        "        \"cb_person_default_on_file\": cb_person_default_on_file_cat,\n",
        "        \"loan_status\": np.int64\n",
        "    }\n",
        "\n",
        ")\n",
        "\n",
        "df_train.info()"
      ],
      "metadata": {
        "id": "PF6Q601c3GoY"
      },
      "execution_count": null,
      "outputs": []
    },
    {
      "cell_type": "markdown",
      "source": [
        "Выполним кодирование категориальных признаков и стандартизацию количественных.\n",
        "\n",
        "Признак с процентной ставкой, пустые значения в котором будем заполнять с помощью байесовской модели, оставим без изменений."
      ],
      "metadata": {
        "id": "c_uBqpfu5amT"
      }
    },
    {
      "cell_type": "code",
      "source": [
        "num_features = [\"person_age\", \"person_income\", \"loan_amnt\"]\n",
        "cat_features = [\"person_home_ownership\", \"loan_intent\",\n",
        "                \"cb_person_default_on_file\"]\n",
        "\n",
        "column_transformer = ColumnTransformer([\n",
        "    (\"cat_transformer\", OrdinalEncoder(dtype='int'), cat_features),\n",
        "    (\"num_transformer\", StandardScaler(), num_features)\n",
        "], remainder='passthrough', verbose_feature_names_out=False)"
      ],
      "metadata": {
        "id": "dKvzxRCG-t_o"
      },
      "execution_count": null,
      "outputs": []
    },
    {
      "cell_type": "code",
      "source": [
        "column_transformer.set_output(transform=\"pandas\")\n",
        "df_train = column_transformer.fit_transform(df_train)\n",
        "df_train"
      ],
      "metadata": {
        "id": "QJR_JDKzAL1I"
      },
      "execution_count": null,
      "outputs": []
    },
    {
      "cell_type": "markdown",
      "source": [
        "Поставим __задачу классификации__ следующим образом: предсказать вероятность возврата кредита клиентом по его характеристикам, представленным в датасете. Одновременно с решением задачи классификации следует заполнить пропуски в столбце \"Процентная ставка\". Требуется визуализовать априорные распределения коэффициентов байесовской модели, распределение целевой переменной для произвольного объекта тестового датасета."
      ],
      "metadata": {
        "id": "HchSeQp76HTz"
      }
    },
    {
      "cell_type": "markdown",
      "source": [
        "Байесовскую модель зададим следующим образом. Курсивом обозначены случайные переменные, прямым шрифтом -- признаки из датасета.\n",
        "\n",
        "$b\\_person\\_age \\sim \\mathcal{N}(0,\\,1)$\n",
        "\n",
        "$b\\_person\\_income \\sim \\mathcal{N}(0,\\,1)$\n",
        "\n",
        "$b\\_loan\\_amnt \\sim \\mathcal{N}(0,\\,1)$\n",
        "\n",
        "$b\\_loan\\_int\\_rate \\sim \\mathcal{N}(0,\\,1)$\n",
        "\n",
        "$b\\_person\\_home\\_ownership_i \\sim \\mathcal{N}(0,\\,1), \\: i \\in [0,\\,3]$\n",
        "\n",
        "$b\\_loan\\_intent_i \\sim \\mathcal{N}(0,\\,1), \\: i \\in [0,\\,5]$\n",
        "\n",
        "$b\\_cb\\_person\\_default\\_on\\_file_i \\sim \\mathcal{N}(0,\\,1), \\: i \\in [0,\\,1]$\n",
        "\n",
        "$mu\\_loan\\_int\\_rate \\sim \\mathcal{N}(0,\\,1)$\n",
        "\n",
        "$std\\_loan\\_int\\_rate \\sim |\\mathcal{N}(0,\\,1)|$\n",
        "\n",
        "$impute\\_loan\\_int\\_rate \\sim \\mathcal{N}(mu\\_loan\\_int\\_rate,\\,std\\_loan\\_int\\_rate)$\n",
        "\n",
        "$loan\\_int\\_rate \\sim \\mathcal{N}(mu\\_loan\\_int\\_rate,\\,std\\_loan\\_int\\_rate)$\n",
        "\n",
        "\n",
        "$logits_i = b\\_person\\_age \\cdot \\text{person_age} + b\\_person\\_income \\cdot \\text{person_income} + b\\_loan\\_amnt \\cdot \\text{loan_amnt} + b\\_person\\_home\\_ownership \\cdot \\text{person_home_ownership} + b\\_loan\\_intent \\cdot \\text{loan_intent} + b\\_cb\\_person\\_default\\_on\\_file \\cdot \\text{b_cb_person_default_on_file} + b\\_loan\\_int\\_rate \\cdot\n",
        "  \\begin{cases}\n",
        "    \\text{loan_int_rate}_i     & \\text{if loan_int_rate$_i$ is not None}, \\\\\n",
        "    impute\\_loan\\_int\\_rate & \\text{otherwise}.\n",
        "  \\end{cases}\n",
        "$\n",
        "\n",
        "\\begin{cases}\n",
        "    \\text{loan_int_rate} = \\sum_{i=1}^N \\mathcal{N}(mu\\_loan\\_int\\_rate,\\,std\\_loan\\_int\\_rate)    & \\text{if loan_int_rate$_i$ is not None}, \\\\\n",
        "    impute\\_loan\\_int\\_rate = \\sum_{i=1}^N \\mathcal{N}(mu\\_loan\\_int\\_rate,\\,std\\_loan\\_int\\_rate) & \\text{otherwise}.\n",
        "\\end{cases}\n",
        "\n",
        "$\\text{loan_status} = \\prod_{i=1}^{N} \\mathcal B \\left[ {\\sigma(logits_i)} \\right]$"
      ],
      "metadata": {
        "id": "Vo-H6grmhza6"
      }
    },
    {
      "cell_type": "code",
      "source": [
        "def model(data: pd.DataFrame, y: pd.Series | None = None):\n",
        "    b_person_age = pyro.sample(\"b_person_age\", dist.Normal(0, 1))\n",
        "    b_person_income = pyro.sample(\"b_person_income\", dist.Normal(0, 1))\n",
        "    b_loan_amnt = pyro.sample(\"b_loan_amnt\", dist.Normal(0, 1))\n",
        "    b_loan_int_rate = pyro.sample(\"b_loan_int_rate\", dist.Normal(0, 1))\n",
        "\n",
        "    logits = b_person_age * torch.tensor(data[\"person_age\"].values)\n",
        "    logits += b_person_income * torch.tensor(data[\"person_income\"].values)\n",
        "    logits += b_loan_amnt * torch.tensor(data[\"loan_amnt\"].values)\n",
        "\n",
        "    mu_loan_int_rate = pyro.sample(\"mu_loan_int_rate\", dist.Normal(0, 1))\n",
        "    std_loan_int_rate = pyro.sample(\"std_loan_int_rate\", dist.HalfNormal(1))\n",
        "\n",
        "    impute_loan_int_rate = pyro.sample(\n",
        "        \"impute_loan_int_rate\", dist.Normal(\n",
        "            mu_loan_int_rate,\n",
        "            std_loan_int_rate\n",
        "        ).mask(False)\n",
        "    )\n",
        "\n",
        "    loan_int_rate = torch.tensor(data[\"loan_int_rate\"].values)\n",
        "    loan_int_rate = torch.where(torch.isnan(loan_int_rate),\n",
        "                                impute_loan_int_rate,\n",
        "                                loan_int_rate)\n",
        "\n",
        "\n",
        "    logits += b_loan_int_rate * loan_int_rate\n",
        "\n",
        "    b_person_home_ownership = pyro.sample(\"b_person_home_ownership\",\n",
        "                                          dist.Normal(0, 1).expand([4]))\n",
        "    b_loan_intent = pyro.sample(\"b_loan_intent\", dist.Normal(0, 1).expand([6]))\n",
        "    b_cb_person_default_on_file = pyro.sample(\"b_cb_person_default_on_file\",\n",
        "                                              dist.Normal(0, 1).expand([2]))\n",
        "\n",
        "    logits += b_person_home_ownership[data[\"person_home_ownership\"].to_numpy()]\n",
        "    logits += b_loan_intent[data[\"loan_intent\"].to_numpy()]\n",
        "    logits += b_cb_person_default_on_file[\n",
        "        data[\"cb_person_default_on_file\"].to_numpy()]\n",
        "\n",
        "    obs = None if y is None else torch.tensor(y.values, dtype=torch.float64)\n",
        "\n",
        "    for i in pyro.plate(\"N\", len(data.index)):\n",
        "        pyro.sample(\"loan_int_rate\", dist.Normal(mu_loan_int_rate,\n",
        "                                                 std_loan_int_rate\n",
        "                                                ), obs=loan_int_rate)\n",
        "        return pyro.sample(\"loan_status\",\n",
        "                           dist.Bernoulli(logits=logits),\n",
        "                           obs=obs)"
      ],
      "metadata": {
        "id": "LEVCkOlAokI2"
      },
      "execution_count": null,
      "outputs": []
    },
    {
      "cell_type": "markdown",
      "source": [
        "Визуализируем графическую вероятностную модель, соответствующую совместному распределению данных и весов."
      ],
      "metadata": {
        "id": "sTkAwYHU70Ib"
      }
    },
    {
      "cell_type": "code",
      "source": [
        "pyro.render_model(model,\n",
        "                  model_args=(df_train, df_train[\"loan_status\"]),\n",
        "                  render_distributions=True,\n",
        "                  render_params=True)"
      ],
      "metadata": {
        "id": "ALCPh7WlsSyL"
      },
      "execution_count": null,
      "outputs": []
    },
    {
      "cell_type": "markdown",
      "source": [
        "Выполним **инференс модели** с использованием марковских последовательностей Монте-Карло (MCMC).\n",
        "\n",
        "Данная процедура выполняет нахождение апостериорного распределения весов модели, многократно сэмплируя из совместного распределения и приводя распределение сэмплов к апостериорному распределению весов.\n",
        "\n",
        "Процедура сэмплирования может быть __достаточно длительной__."
      ],
      "metadata": {
        "id": "sq2hHdeN8DZT"
      }
    },
    {
      "cell_type": "code",
      "source": [
        "num_of_samples = 200\n",
        "\n",
        "mcmc = MCMC(NUTS(model, jit_compile=True), num_samples=num_of_samples)\n",
        "mcmc.run(df_train, df_train[\"loan_status\"])\n",
        "mcmc.summary()"
      ],
      "metadata": {
        "id": "upMB6x9OTTma"
      },
      "execution_count": null,
      "outputs": []
    },
    {
      "cell_type": "markdown",
      "source": [
        "После выполнения процедуры сэмплирования проверьте значения \"r_hat\" в сводке параметров. Они должны быть близкими к единице, что указывает на сходимость метода.\n",
        "\n",
        "Получить сэмплы из апостериорного распределения весов можно следующим образом:"
      ],
      "metadata": {
        "id": "kXNKjkg-9qbT"
      }
    },
    {
      "cell_type": "code",
      "source": [
        "posterior_samples = mcmc.get_samples()\n",
        "posterior_samples"
      ],
      "metadata": {
        "id": "PbVOSaYYBCDK"
      },
      "execution_count": null,
      "outputs": []
    },
    {
      "cell_type": "markdown",
      "source": [
        "После выполнения инференса займёмся процедурой __предсказания__ с использованием обученной модели.\n",
        "\n",
        "Загрузим датасет с тестовыми данными и посмотрим на него."
      ],
      "metadata": {
        "id": "ZOIW3fBO-B2B"
      }
    },
    {
      "cell_type": "code",
      "source": [
        "df_predict_name = \"/content/credit_risk_dataset_predict.csv\"\n",
        "df_predict = pd.read_csv(df_predict_name)\n",
        "df_predict"
      ],
      "metadata": {
        "id": "VBwSghjgLrkN"
      },
      "execution_count": null,
      "outputs": []
    },
    {
      "cell_type": "markdown",
      "source": [
        "Выполним над тестовым датасетом те же преобразования признаков, что и над тренировочным:"
      ],
      "metadata": {
        "id": "uoSKLQo4-Snw"
      }
    },
    {
      "cell_type": "code",
      "source": [
        "df_predict = column_transformer.transform(df_predict)\n",
        "df_predict"
      ],
      "metadata": {
        "id": "_n35cYRLLrmq"
      },
      "execution_count": null,
      "outputs": []
    },
    {
      "cell_type": "markdown",
      "source": [
        "Получим распределение наблюдаемых переменных для каждого объекта из тестовой выборки с использованием апостериорных распределений весов (полученных после обучения модели)."
      ],
      "metadata": {
        "id": "g3KhzbQ3-jDr"
      }
    },
    {
      "cell_type": "code",
      "source": [
        "posterior_predictive = Predictive(model, posterior_samples)(df_predict)\n",
        "posterior_predictive"
      ],
      "metadata": {
        "id": "7AHD6s9ZBLbZ"
      },
      "execution_count": null,
      "outputs": []
    },
    {
      "cell_type": "markdown",
      "source": [
        "Получим распределение наблюдаемых переменных для каждого объекта из тестовой выборки с использованием априорных распределений весов (полученных до обучения модели)."
      ],
      "metadata": {
        "id": "8XTuunns_6WT"
      }
    },
    {
      "cell_type": "code",
      "source": [
        "prior = Predictive(model, num_samples=num_of_samples)(df_predict)\n",
        "prior"
      ],
      "metadata": {
        "id": "MavH9DquCcH3"
      },
      "execution_count": null,
      "outputs": []
    },
    {
      "cell_type": "markdown",
      "source": [
        "Сформируем данные для визуализации с помощью библиотеки [ArViZ](https://python.arviz.org/en/stable/)."
      ],
      "metadata": {
        "id": "kbbelKnIABZM"
      }
    },
    {
      "cell_type": "code",
      "source": [
        "pyro_data = az.from_pyro(\n",
        "    mcmc, prior=prior, posterior_predictive=posterior_predictive\n",
        ")\n",
        "pyro_data"
      ],
      "metadata": {
        "id": "Chh9k34UC-GN"
      },
      "execution_count": null,
      "outputs": []
    },
    {
      "cell_type": "markdown",
      "source": [
        "Визуализируем апостериорные распределения всех латентных переменных (весов модели)."
      ],
      "metadata": {
        "id": "_SuDxEwmAcce"
      }
    },
    {
      "cell_type": "code",
      "source": [
        "az.plot_posterior(pyro_data)"
      ],
      "metadata": {
        "id": "NfsG4pGBDgn7"
      },
      "execution_count": null,
      "outputs": []
    },
    {
      "cell_type": "markdown",
      "source": [
        "Визуализируем семейство распределений латентных переменных, полученных моделью, и сравним их с эмпирическим распределением, сформированным из тестового датасета."
      ],
      "metadata": {
        "id": "9zLkQhIcAloP"
      }
    },
    {
      "cell_type": "code",
      "source": [
        "az.plot_ppc(pyro_data)"
      ],
      "metadata": {
        "id": "luBhTVF5FYPn"
      },
      "execution_count": null,
      "outputs": []
    },
    {
      "cell_type": "markdown",
      "source": [
        "Посмотрим на апостериорные распределения латентных переменных (весов модели) всесте с \"трассой\" -- набором сэмплов, полученных в процессе выполнения инференса методом MCMC."
      ],
      "metadata": {
        "id": "NV6yJ4sqBlTB"
      }
    },
    {
      "cell_type": "code",
      "source": [
        "az.plot_trace(pyro_data)"
      ],
      "metadata": {
        "id": "Ln03IY44GkDX"
      },
      "execution_count": null,
      "outputs": []
    },
    {
      "cell_type": "markdown",
      "source": [
        "Визуализируем распределение переменной статуса кредита (целевая бинарная переменная, показывающая, возвращен ли клиентом кредит) для одного случайного клиента. Красной пунктирной линией показано истинное значение целевой переменной у данного объекта."
      ],
      "metadata": {
        "id": "1nLm4F3MB6Em"
      }
    },
    {
      "cell_type": "code",
      "source": [
        "df_predict_one = df_predict.sample(n=1)\n",
        "\n",
        "posterior_predictive_one = Predictive(model, posterior_samples)(df_predict_one)\n",
        "ser = pd.Series(\n",
        "    posterior_predictive_one[\"loan_status\"].detach().numpy().squeeze()\n",
        ")\n",
        "print(\"Ground True value: \", df_predict_one[\"loan_status\"].values.squeeze())\n",
        "print(\"Probability of label to be one: \", ser.mean())\n",
        "print(\"Distribution:\")\n",
        "result = plt.hist(ser, color='c', edgecolor='k', alpha=0.65)\n",
        "plt.axvline(ser.mean(), color='r', linestyle='dashed', linewidth=1)"
      ],
      "metadata": {
        "id": "wB-RlaVqGmby"
      },
      "execution_count": null,
      "outputs": []
    },
    {
      "cell_type": "markdown",
      "source": [
        "### Индивидуальное задание\n",
        "\n",
        "Опираясь на представленное исследование и используя его в качестве образца, **выполните аналогичные действия с выбранным Вами датасетом**.\n",
        "\n",
        "В процессе работы:\n",
        "\n",
        "1. Выберите датасет, содержащий табличные данные. Датасеты можно найти, например, на [Kaggle](https://www.kaggle.com/datasets) и [UC Irvine Machine Learning Repository](https://archive.ics.uci.edu/ml/index.php). __Хотя бы один столбец__ датасета должен содержать пропуски.\n",
        "2. Выполните __разведочный анализ__ датасета, выполните требуемые __преобразования признаков__.\n",
        "3. Разделите датасет на __обучающую__ и __тестовую__ части.\n",
        "4. Поставьте задачу __классификации__ или __регрессии__ для данных из датасета.\n",
        "5. Составьте __байесовскую модель__ для решения поставленной задачи и определения пропущенных данных. Запишите совместное распределение наблюдаемых и латентных переменных (данных и весов соответственно).\n",
        "6. __Запрограммируйте__ модель с использованием библиотеки Pyro. Получите изображение __графической вероятностной модели__, сформированной Pyro.\n",
        "7. __Обучите__ вероятностную модель с использованием MCMC.\n",
        "8. __Визуализируйте__ апостериорные распределения весов модели и \"трассы\", полученные в процессе сэмплирования. Критически оцените полученный результат.\n",
        "9. __Визуализируйте__ эмпирические распределения латентных переменных из тестовой части датасета и сравните их с семейством предиктивных распределений, полученных моделью. Критически оцените полученный результат.\n",
        "10. Для произвольного объекта из тестовой части датасета получите __предиктивное распределение__ наблюдаемых переменных и соотнесите его с точным значением соответствующих параметров рассматриваемого объекта.\n",
        "11. Сделайте __выводы__ по работе."
      ],
      "metadata": {
        "id": "i7aepzliCeav"
      }
    },
    {
      "cell_type": "markdown",
      "source": [
        "### Список вопросов для подготовки к отчету\n",
        "\n",
        "1. Основные понятия теории вероятностей: плотность распределения, правило нормировки, совместная плотность вероятности, математическое ожидание, дисперсия, условная плотность вероятности. Условная независимость.\n",
        "2. Правило произведения для плотности совместного распределения.\n",
        "3. Правило суммирования. Маргинализация случайных величин.\n",
        "4. Обращение условного распределения. Теорема Байеса.\n",
        "5. Сущность байесовского распределения. Примеры.\n",
        "6. Понятие графических вероятностных моделей. Представление вероятностных отношений в виде графа. Байесовская сеть.\n",
        "7. Наблюдаемые и латентные величины, их обозначения в графических моделях.\n",
        "8. Понятие d-разделимости. Последовательная, расходящаяся и сходящаяся связи. Explaining away.\n",
        "9. Нотация \"планок\" в графических моделях. Примеры.\n",
        "10. Основные понятия классического машинного обучения: объекты, признаки, метки, целевая переменная, модель, функции ошибки, эмпирический риск. Принцип минимума эмпирического риска.\n",
        "11. Классический и байесовский подходы к машинному обучению, их сравнительный анализ. Пример линейной регрессии с точки зрения обоих подходов.\n",
        "12. Минимизация эмпирического риска как максимизация правдоподобия. Принципы максимальных правдоподобия и апостериорной вероятности.\n",
        "13. Частотный и байесовский подходы к описанию событий в ML.\n",
        "14. Постановка задачи и основная проблема байесовского инференса, способы её решения. Сопряженные распределения.\n",
        "15. Методы Монте-Карло, их эффективность при решении интегралов. Сравнение с аналитическим и численным решениями. Базовый эстиматор Монте-Карло.\n",
        "16. Понятие семплирования случайной величины. Способы семплирования. Теорема об обратной функции распределения и её применение для семплирования.\n",
        "17. Семплирование с отклонением (Rejection sampling): алгоритм, его корректность и применимость. Свойства семплирования с отклонением.\n",
        "18. Семплирование по важности (Importance sampling): алгоритм, его корректность и применимость. Forward sampling.\n",
        "19. Фреймворк для вероятностного программирования Pyro. Краткая характеристика, построение вероятностных моделей с его помощью.\n",
        "20. Сущность и реализация сторонних эффектов функций в Pyro. Понятие \"трасс\". Библиотека Poutine. Обработчики сторонных эффектов (handlers). Примеры.\n",
        "\n",
        "**Данный список вопросов не является окончательным, он будет дополняться вопросами по мере прохождения соответствующего материала!**\n",
        "\n",
        "\n",
        "\n"
      ],
      "metadata": {
        "id": "MCGNUNERI7S0"
      }
    },
    {
      "cell_type": "markdown",
      "source": [
        "### Список литературы для подготовки к отчету\n",
        "\n",
        "1. Дауни, А. Б. Байесовские модели / А. Б. Дауни ; перевод с английского В. А. Яроцкого. — Москва : ДМК Пресс, 2018. — 182 с. URL: https://e.lanbook.com/book/131695 (дата обращения: 13.02.2024). — Режим доступа: для авториз. пользователей.\n",
        "\n",
        "2. Barber D. Bayesian Reasoning and Machine Learning. — Cambridge University Press, 2012. URL: [http://www0.cs.ucl.ac.uk/staff/d.barber/brml/](http://www0.cs.ucl.ac.uk/staff/d.barber/brml/) (дата обращения: 13.02.2024).\n",
        "\n",
        "3. Bishop M.C. Pattern Recognition and Machine Learning. — Springer, 2006. — 738 с. URL: [https://www.microsoft.com/en-us/research/uploads/prod/2006/01/Bishop-Pattern-Recognition-and-Machine-Learning-2006.pdf](https://www.microsoft.com/en-us/research/uploads/prod/2006/01/Bishop-Pattern-Recognition-and-Machine-Learning-2006.pdf) (дата обращения: 13.02.2024).\n",
        "\n",
        "4. Pyro: официальная документация. 2024. URL: [https://pyro4ci.readthedocs.io/en/latest/](https://pyro4ci.readthedocs.io/en/latest/) (дата обращения: 13.02.2024)."
      ],
      "metadata": {
        "id": "WC5HVjXoJd2v"
      }
    }
  ]
}